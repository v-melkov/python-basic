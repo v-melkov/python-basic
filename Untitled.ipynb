{
 "cells": [
  {
   "cell_type": "code",
   "execution_count": 25,
   "id": "5288a13a",
   "metadata": {},
   "outputs": [],
   "source": [
    "class IPAdress:\n",
    "    def __init__(self, ip):\n",
    "        self.ip = ip\n",
    "    \n",
    "    def __str__(self):\n",
    "        return f\"IPAddress = {self.ip}\"\n",
    "    \n",
    "    def __repr__(self):\n",
    "        return f\"IPAddress('{self.ip}')\""
   ]
  },
  {
   "cell_type": "code",
   "execution_count": 26,
   "id": "6d4a041e",
   "metadata": {},
   "outputs": [],
   "source": [
    "ip1 = IPAdress('10.13.62.1')\n",
    "ip2 = IPAdress('10.13.62.32')"
   ]
  },
  {
   "cell_type": "code",
   "execution_count": 27,
   "id": "66a34f37",
   "metadata": {},
   "outputs": [
    {
     "name": "stdout",
     "output_type": "stream",
     "text": [
      "IPAddress = 10.13.62.1\n"
     ]
    }
   ],
   "source": [
    "print(ip1)"
   ]
  },
  {
   "cell_type": "code",
   "execution_count": 28,
   "id": "046922c5",
   "metadata": {},
   "outputs": [
    {
     "name": "stdout",
     "output_type": "stream",
     "text": [
      "IPAddress = 10.13.62.32\n"
     ]
    }
   ],
   "source": [
    "print(ip2)"
   ]
  },
  {
   "cell_type": "code",
   "execution_count": 29,
   "id": "cbbdb603",
   "metadata": {},
   "outputs": [
    {
     "data": {
      "text/plain": [
       "'IPAddress = 10.13.62.1'"
      ]
     },
     "execution_count": 29,
     "metadata": {},
     "output_type": "execute_result"
    }
   ],
   "source": [
    "str(ip1)"
   ]
  },
  {
   "cell_type": "code",
   "execution_count": 30,
   "id": "de668f31",
   "metadata": {},
   "outputs": [],
   "source": [
    "ip_adresses = [ip1, ip2]"
   ]
  },
  {
   "cell_type": "code",
   "execution_count": 33,
   "id": "d059eba9",
   "metadata": {},
   "outputs": [
    {
     "name": "stdout",
     "output_type": "stream",
     "text": [
      "[IPAddress('10.13.62.1'), IPAddress('10.13.62.32')]\n"
     ]
    }
   ],
   "source": [
    "print(ip_adresses)"
   ]
  }
 ],
 "metadata": {
  "kernelspec": {
   "display_name": "Python 3",
   "language": "python",
   "name": "python3"
  },
  "language_info": {
   "codemirror_mode": {
    "name": "ipython",
    "version": 3
   },
   "file_extension": ".py",
   "mimetype": "text/x-python",
   "name": "python",
   "nbconvert_exporter": "python",
   "pygments_lexer": "ipython3",
   "version": "3.9.5"
  }
 },
 "nbformat": 4,
 "nbformat_minor": 5
}
